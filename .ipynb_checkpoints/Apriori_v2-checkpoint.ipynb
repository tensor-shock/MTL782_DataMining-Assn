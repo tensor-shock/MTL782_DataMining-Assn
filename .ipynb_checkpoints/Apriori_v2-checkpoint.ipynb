{
 "cells": [
  {
   "cell_type": "code",
   "execution_count": 1,
   "metadata": {
    "id": "58PZCErjGKtw"
   },
   "outputs": [],
   "source": [
    "import math\n",
    "import time"
   ]
  },
  {
   "cell_type": "code",
   "execution_count": 2,
   "metadata": {},
   "outputs": [],
   "source": [
    "start_time = time.time()"
   ]
  },
  {
   "cell_type": "code",
   "execution_count": 3,
   "metadata": {},
   "outputs": [
    {
     "data": {
      "text/plain": [
       "'\\nwith open(r\"retail.dat\") as datFile:\\n    lines=[data.strip().split() for data in datFile]\\n\\ntransactions=[[\\'T\\'+str(i),lines[i]] for i in range(len(lines))]\\n\\nprint(transactions[1:4])\\n'"
      ]
     },
     "execution_count": 3,
     "metadata": {},
     "output_type": "execute_result"
    }
   ],
   "source": [
    "\n",
    "with open(r\"retail.dat\") as datFile:\n",
    "    lines=[data.strip().split() for data in datFile]\n",
    "\n",
    "transactions=[['T'+str(i),lines[i]] for i in range(len(lines))]\n",
    "\n",
    "print(transactions[1:4])\n"
   ]
  },
  {
   "cell_type": "code",
   "execution_count": 4,
   "metadata": {
    "id": "iQ6d8GttGOyT"
   },
   "outputs": [],
   "source": [
    "'''\n",
    "transactions = [\n",
    "        ['T100',['I1','I2','I5']],\n",
    "        ['T200',['I2','I4']],\n",
    "        ['T300',['I2','I3']],\n",
    "        ['T400',['I1','I2','I4']],\n",
    "        ['T500',['I1','I3']],\n",
    "        ['T600',['I2','I3']],\n",
    "        ['T700',['I1','I3']],\n",
    "        ['T800',['I1','I2','I3','I5']],\n",
    "        ['T900',['I1','I2','I3']]\n",
    "        ]\n"
   ]
  },
  {
   "cell_type": "code",
   "execution_count": 5,
   "metadata": {
    "colab": {
     "base_uri": "https://localhost:8080/"
    },
    "id": "D957iqXaGQ0X",
    "outputId": "e75c0b3b-2932-4556-fe39-f6ca8c6f797c"
   },
   "outputs": [
    {
     "name": "stdout",
     "output_type": "stream",
     "text": [
      "5\n",
      "['I1', 'I2', 'I5', 'I4', 'I3']\n"
     ]
    }
   ],
   "source": [
    "#made items list\n",
    "items=[]\n",
    "for itemset in transactions:\n",
    "  for item in itemset[1]:\n",
    "    if item not in items:\n",
    "      items.append(item)\n",
    "\n",
    "print(len(items))\n",
    "print(items)"
   ]
  },
  {
   "cell_type": "code",
   "execution_count": 6,
   "metadata": {
    "colab": {
     "base_uri": "https://localhost:8080/"
    },
    "id": "bhQK_-9N37Rx",
    "outputId": "3ff7fa9b-0dad-4703-fb12-ba8bb5d61efc"
   },
   "outputs": [
    {
     "name": "stdout",
     "output_type": "stream",
     "text": [
      "2\n"
     ]
    }
   ],
   "source": [
    "#support\n",
    "support=0.3 #30%\n",
    "#required minimum support count for selection\n",
    "supcount=math.ceil(support*len(items))\n",
    "print(supcount)"
   ]
  },
  {
   "cell_type": "code",
   "execution_count": 7,
   "metadata": {
    "colab": {
     "base_uri": "https://localhost:8080/"
    },
    "id": "ahf0CUFP39iM",
    "outputId": "6f1e8b89-f9aa-47dc-fd5e-26754d42b9a1"
   },
   "outputs": [
    {
     "name": "stdout",
     "output_type": "stream",
     "text": [
      "[['I1'], ['I2'], ['I5'], ['I4'], ['I3']]\n"
     ]
    }
   ],
   "source": [
    "L=[]\n",
    "C=[]\n",
    "C.append([])\n",
    "L1=[]\n",
    "dic={}\n",
    "for itemset in transactions:\n",
    "  for x in items:\n",
    "    if x in itemset[1]:\n",
    "      if x in dic.keys():\n",
    "        dic[x]+=1\n",
    "      else:\n",
    "        dic[x]=1\n",
    "for k,v in dic.items():\n",
    "  if v>=supcount:\n",
    "    L1.append([k])\n",
    "L.append(L1)\n",
    "print(L1)"
   ]
  },
  {
   "cell_type": "code",
   "execution_count": 8,
   "metadata": {
    "id": "P0u74duj4BVa"
   },
   "outputs": [],
   "source": [
    "def gen_candidate(L):\n",
    "  #L of the form [[1,2,3],[2,3,4],[1,2,4]]\n",
    "\n",
    "  #number of elements in candidates of round\n",
    "  k=len(L[0])+1\n",
    "\n",
    "  C=[]\n",
    "  for i in range(len(L)):\n",
    "    for j in range(i+1,len(L)):\n",
    "\n",
    "      possible_candidate=list( set(L[i]) | set(L[j]) )\n",
    "      \n",
    "      if len(possible_candidate)!=k:\n",
    "        continue\n",
    "      elif possible_candidate in C:\n",
    "        continue\n",
    "      else:\n",
    "        true_candidate=True\n",
    "\n",
    "        for x in possible_candidate:\n",
    "          test_candidate=possible_candidate.copy()\n",
    "          test_candidate.remove(x)\n",
    "\n",
    "          if test_candidate not in L:\n",
    "            true_candidate=False\n",
    "            break\n",
    "\n",
    "        if true_candidate:\n",
    "          #possible_candidate.sort()\n",
    "          C.append(possible_candidate)\n",
    "\n",
    "  return C"
   ]
  },
  {
   "cell_type": "code",
   "execution_count": 9,
   "metadata": {
    "colab": {
     "base_uri": "https://localhost:8080/"
    },
    "id": "A_rX1YmJ8Ibf",
    "outputId": "c09e6d58-bb6d-4ce0-d548-fb09d8e306ce"
   },
   "outputs": [
    {
     "name": "stdout",
     "output_type": "stream",
     "text": [
      "[['I1'], ['I2'], ['I5'], ['I4'], ['I3']]\n",
      "[['I2', 'I1'], ['I5', 'I1'], ['I4', 'I1'], ['I3', 'I1'], ['I2', 'I5'], ['I2', 'I4'], ['I2', 'I3'], ['I5', 'I4'], ['I5', 'I3'], ['I4', 'I3']]\n"
     ]
    }
   ],
   "source": [
    "print(L[0])\n",
    "print(gen_candidate(L[0]))"
   ]
  },
  {
   "cell_type": "code",
   "execution_count": 10,
   "metadata": {
    "colab": {
     "base_uri": "https://localhost:8080/"
    },
    "id": "0RdKujbP8KOi",
    "outputId": "f63116db-fbbb-4174-e677-6d8c45696528"
   },
   "outputs": [
    {
     "name": "stdout",
     "output_type": "stream",
     "text": [
      "Frequent itemsets of size 1 are\n",
      "[['I1'], ['I2'], ['I5'], ['I4'], ['I3']]\n",
      "Frequent itemsets of size 2 are\n",
      "[['I2', 'I1'], ['I2', 'I3'], ['I2', 'I4'], ['I2', 'I5'], ['I3', 'I1'], ['I5', 'I1']]\n",
      "Frequent itemsets of size 3 are\n",
      "[['I2', 'I3', 'I1'], ['I2', 'I5', 'I1']]\n"
     ]
    }
   ],
   "source": [
    "for k in range(len(items)+2):\n",
    "  if len(L[k])==0:\n",
    "    L.remove([])\n",
    "    break\n",
    "  else:\n",
    "    lis=[]\n",
    "    C=gen_candidate(L[k])\n",
    "    #print(C)\n",
    "    dic={}\n",
    "    for itemset in transactions:\n",
    "      for candidate in C:\n",
    "        candi=tuple(candidate)\n",
    "        result =  all(e in itemset[1] for e in candidate)\n",
    "\n",
    "        if result==True:\n",
    "          if candi in dic.keys():\n",
    "            dic[candi]+=1\n",
    "          else:\n",
    "            dic[candi]=1\n",
    "    for k,v in dic.items():\n",
    "      if v>=supcount:\n",
    "        lis.append(list(k))\n",
    "    lis.sort()\n",
    "    L.append(lis)\n",
    "    \n",
    "    #L has candidates in Ck+1 with support ≥min_sup\n",
    "for i in range(len(L)):\n",
    "  print('Frequent itemsets of size',i+1,'are')\n",
    "  print(L[i])"
   ]
  },
  {
   "cell_type": "code",
   "execution_count": 11,
   "metadata": {
    "id": "EoGrMnE_9g7t"
   },
   "outputs": [
    {
     "name": "stdout",
     "output_type": "stream",
     "text": [
      "--- 0.06125330924987793 seconds ---\n"
     ]
    }
   ],
   "source": [
    "print(\"--- %s seconds ---\" % (time.time() - start_time))"
   ]
  }
 ],
 "metadata": {
  "colab": {
   "name": "Apriori_v2.ipynb",
   "provenance": []
  },
  "kernelspec": {
   "display_name": "Python 3",
   "language": "python",
   "name": "python3"
  },
  "language_info": {
   "codemirror_mode": {
    "name": "ipython",
    "version": 3
   },
   "file_extension": ".py",
   "mimetype": "text/x-python",
   "name": "python",
   "nbconvert_exporter": "python",
   "pygments_lexer": "ipython3",
   "version": "3.8.8"
  }
 },
 "nbformat": 4,
 "nbformat_minor": 1
}
