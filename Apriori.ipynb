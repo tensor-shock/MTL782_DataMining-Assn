{
 "cells": [
  {
   "cell_type": "code",
   "execution_count": 54,
   "metadata": {
    "id": "SbhV29LRXQh5"
   },
   "outputs": [],
   "source": [
    "import math\n",
    "import time"
   ]
  },
  {
   "cell_type": "code",
   "execution_count": 55,
   "metadata": {},
   "outputs": [],
   "source": [
    "start_time = time.time()"
   ]
  },
  {
   "cell_type": "code",
   "execution_count": 56,
   "metadata": {
    "colab": {
     "base_uri": "https://localhost:8080/"
    },
    "id": "tewu_40mbx_K",
    "outputId": "cf5ca6a9-a586-4eb8-f308-8591f98aa76a"
   },
   "outputs": [
    {
     "name": "stdout",
     "output_type": "stream",
     "text": [
      "[['T1', ['30', '31', '32']], ['T2', ['33', '34', '35']], ['T3', ['36', '37', '38', '39', '40', '41', '42', '43', '44', '45', '46']]]\n"
     ]
    }
   ],
   "source": [
    "with open(r\"retail.dat\") as datFile:\n",
    "    lines=[data.strip().split() for data in datFile]\n",
    "\n",
    "transactions=[['T'+str(i),lines[i]] for i in range(len(lines))]\n",
    "\n",
    "print(transactions[1:4])"
   ]
  },
  {
   "cell_type": "code",
   "execution_count": 57,
   "metadata": {
    "id": "mVoCsEtm38lF"
   },
   "outputs": [
    {
     "data": {
      "text/plain": [
       "\"\\ntransactions = [\\n        ['T100',['I1','I2','I5']],\\n        ['T200',['I2','I4']],\\n        ['T300',['I2','I3']],\\n        ['T400',['I1','I2','I4']],\\n        ['T500',['I1','I3']],\\n        ['T600',['I2','I3']],\\n        ['T700',['I1','I3']],\\n        ['T800',['I1','I2','I3','I5']],\\n        ['T900',['I1','I2','I3']]\\n        ]\\n\""
      ]
     },
     "execution_count": 57,
     "metadata": {},
     "output_type": "execute_result"
    }
   ],
   "source": [
    "'''\n",
    "transactions = [\n",
    "        ['T100',['I1','I2','I5']],\n",
    "        ['T200',['I2','I4']],\n",
    "        ['T300',['I2','I3']],\n",
    "        ['T400',['I1','I2','I4']],\n",
    "        ['T500',['I1','I3']],\n",
    "        ['T600',['I2','I3']],\n",
    "        ['T700',['I1','I3']],\n",
    "        ['T800',['I1','I2','I3','I5']],\n",
    "        ['T900',['I1','I2','I3']]\n",
    "        ]\n",
    "'''"
   ]
  },
  {
   "cell_type": "code",
   "execution_count": 58,
   "metadata": {
    "colab": {
     "base_uri": "https://localhost:8080/"
    },
    "id": "drVCeBmUZ3KV",
    "outputId": "9c2e9c2a-93ef-4c4b-daef-ce69fc9e7b1e"
   },
   "outputs": [
    {
     "name": "stdout",
     "output_type": "stream",
     "text": [
      "16470\n"
     ]
    }
   ],
   "source": [
    "#made items list\n",
    "items=[]\n",
    "for itemset in transactions:\n",
    "  for item in itemset[1]:\n",
    "    if item not in items:\n",
    "      items.append(item)\n",
    "\n",
    "print(len(items))\n",
    "#print(items)"
   ]
  },
  {
   "cell_type": "code",
   "execution_count": 59,
   "metadata": {
    "colab": {
     "base_uri": "https://localhost:8080/"
    },
    "id": "rNYDYrnsab-S",
    "outputId": "b67a239a-691c-4ed8-d2bf-22d035da2675"
   },
   "outputs": [
    {
     "name": "stdout",
     "output_type": "stream",
     "text": [
      "4941\n"
     ]
    }
   ],
   "source": [
    "#support\n",
    "support=0.3 #30%\n",
    "#required minimum support count for selection\n",
    "supcount=math.ceil(support*len(items))\n",
    "print(supcount)"
   ]
  },
  {
   "cell_type": "code",
   "execution_count": 60,
   "metadata": {
    "id": "V9swN_7SbnBN"
   },
   "outputs": [
    {
     "name": "stdout",
     "output_type": "stream",
     "text": [
      "[['32'], ['38'], ['39'], ['41'], ['48']]\n"
     ]
    }
   ],
   "source": [
    "L=[]\n",
    "C=[]\n",
    "C.append([])\n",
    "L1=[]\n",
    "for x in items:\n",
    "  c=0\n",
    "  for itemset in transactions:\n",
    "    if x in itemset[1]:\n",
    "      c+=1\n",
    "  if c>=supcount:\n",
    "    L1.append([x])\n",
    "L.append(L1)\n",
    "print(L1)"
   ]
  },
  {
   "cell_type": "code",
   "execution_count": 61,
   "metadata": {
    "id": "UzHyARQAkU28"
   },
   "outputs": [],
   "source": [
    "def gen_candidate(L):\n",
    "  #L of the form [[1,2,3],[2,3,4],[1,2,4]]\n",
    "\n",
    "  #number of elements in candidates of round\n",
    "  k=len(L[0])+1\n",
    "\n",
    "  C=[]\n",
    "  for i in range(len(L)):\n",
    "    for j in range(i+1,len(L)):\n",
    "\n",
    "      possible_candidate=list( set(L[i]) | set(L[j]) )\n",
    "      \n",
    "      if len(possible_candidate)!=k:\n",
    "        continue\n",
    "      elif possible_candidate in C:\n",
    "        continue\n",
    "      else:\n",
    "        true_candidate=True\n",
    "\n",
    "        for x in possible_candidate:\n",
    "          test_candidate=possible_candidate.copy()\n",
    "          test_candidate.remove(x)\n",
    "\n",
    "          if test_candidate not in L:\n",
    "            true_candidate=False\n",
    "            break\n",
    "\n",
    "        if true_candidate:\n",
    "          #possible_candidate.sort()\n",
    "          C.append(possible_candidate)\n",
    "\n",
    "  return C"
   ]
  },
  {
   "cell_type": "code",
   "execution_count": 62,
   "metadata": {
    "colab": {
     "base_uri": "https://localhost:8080/"
    },
    "id": "QOFAV7fFuXZl",
    "outputId": "118452b6-ca9d-44bc-cd8c-f929a51e725a"
   },
   "outputs": [
    {
     "name": "stdout",
     "output_type": "stream",
     "text": [
      "[['32'], ['38'], ['39'], ['41'], ['48']]\n",
      "[['38', '32'], ['39', '32'], ['41', '32'], ['48', '32'], ['39', '38'], ['38', '41'], ['48', '38'], ['39', '41'], ['48', '39'], ['48', '41']]\n"
     ]
    }
   ],
   "source": [
    "print(L[0])\n",
    "print(gen_candidate(L[0]))"
   ]
  },
  {
   "cell_type": "code",
   "execution_count": 63,
   "metadata": {
    "colab": {
     "base_uri": "https://localhost:8080/"
    },
    "id": "SXCCgPIAx2-I",
    "outputId": "2b7b668d-50f7-47ea-eebf-72be2799ad06"
   },
   "outputs": [
    {
     "name": "stdout",
     "output_type": "stream",
     "text": [
      "[[['32'], ['38'], ['39'], ['41'], ['48']]]\n"
     ]
    }
   ],
   "source": [
    "print(L)"
   ]
  },
  {
   "cell_type": "code",
   "execution_count": 64,
   "metadata": {
    "colab": {
     "base_uri": "https://localhost:8080/"
    },
    "id": "brw_bGrogazd",
    "outputId": "c0f83a8b-234d-4418-8ccf-88eac0ffc137"
   },
   "outputs": [
    {
     "name": "stdout",
     "output_type": "stream",
     "text": [
      "Frequent itemsets of size 1 are\n",
      "[['32'], ['38'], ['39'], ['41'], ['48']]\n",
      "Frequent itemsets of size 2 are\n",
      "[['39', '32'], ['39', '38'], ['39', '41'], ['48', '32'], ['48', '38'], ['48', '39'], ['48', '41']]\n",
      "Frequent itemsets of size 3 are\n",
      "[['48', '39', '32'], ['48', '39', '38'], ['48', '39', '41']]\n"
     ]
    }
   ],
   "source": [
    "for k in range(len(items)+2):\n",
    "  if len(L[k])==0:\n",
    "    L.remove([])\n",
    "    break\n",
    "  else:\n",
    "    lis=[]\n",
    "    C=gen_candidate(L[k])\n",
    "    #print(C)\n",
    "    for candidate in C:\n",
    "      c=0\n",
    "      for itemset in transactions:\n",
    "        #increment count of candidates in C that are contained in t\n",
    "        result =  all(e in itemset[1] for e in candidate)\n",
    "        \n",
    "        if result==True:\n",
    "          c+=1\n",
    "      #print(candidate,c)\n",
    "      if c>=supcount:\n",
    "        lis.append(candidate)\n",
    "      lis.sort()\n",
    "    L.append(lis)\n",
    "    #print(k+1,lis)\n",
    "    \n",
    "    \n",
    "    #L has candidates in Ck+1 with support ≥min_sup\n",
    "for i in range(len(L)):\n",
    "  print('Frequent itemsets of size',i+1,'are')\n",
    "  print(L[i])"
   ]
  },
  {
   "cell_type": "code",
   "execution_count": 65,
   "metadata": {},
   "outputs": [
    {
     "name": "stdout",
     "output_type": "stream",
     "text": [
      "--- 303.5689311027527 seconds ---\n"
     ]
    }
   ],
   "source": [
    "print(\"--- %s seconds ---\" % (time.time() - start_time))"
   ]
  }
 ],
 "metadata": {
  "colab": {
   "collapsed_sections": [],
   "name": "Apriori.ipynb",
   "provenance": []
  },
  "kernelspec": {
   "display_name": "Python 3",
   "language": "python",
   "name": "python3"
  },
  "language_info": {
   "codemirror_mode": {
    "name": "ipython",
    "version": 3
   },
   "file_extension": ".py",
   "mimetype": "text/x-python",
   "name": "python",
   "nbconvert_exporter": "python",
   "pygments_lexer": "ipython3",
   "version": "3.8.8"
  }
 },
 "nbformat": 4,
 "nbformat_minor": 1
}
